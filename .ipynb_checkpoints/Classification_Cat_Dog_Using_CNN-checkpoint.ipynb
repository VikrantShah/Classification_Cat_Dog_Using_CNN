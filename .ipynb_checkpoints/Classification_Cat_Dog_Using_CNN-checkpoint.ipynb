{
 "cells": [
  {
   "cell_type": "markdown",
   "metadata": {},
   "source": [
    "# Importing the libraries"
   ]
  },
  {
   "cell_type": "code",
   "execution_count": 1,
   "metadata": {},
   "outputs": [
    {
     "name": "stderr",
     "output_type": "stream",
     "text": [
      "Using TensorFlow backend.\n"
     ]
    }
   ],
   "source": [
    "import tensorflow as tf\n",
    "from keras.preprocessing.image import ImageDataGenerator"
   ]
  },
  {
   "cell_type": "code",
   "execution_count": 2,
   "metadata": {},
   "outputs": [
    {
     "data": {
      "text/plain": [
       "'2.2.0'"
      ]
     },
     "execution_count": 2,
     "metadata": {},
     "output_type": "execute_result"
    }
   ],
   "source": [
    "tf.__version__"
   ]
  },
  {
   "cell_type": "markdown",
   "metadata": {},
   "source": [
    "# Data Preprocessing"
   ]
  },
  {
   "cell_type": "code",
   "execution_count": 3,
   "metadata": {},
   "outputs": [],
   "source": [
    "train_dir = r'C:\\Classification_Cat_Dog_Using_CNN\\Dataset\\Train'\n",
    "test_dir = r'C:\\Classification_Cat_Dog_Using_CNN\\Dataset\\Test'"
   ]
  },
  {
   "cell_type": "markdown",
   "metadata": {},
   "source": [
    "## Preprocessing the Training set"
   ]
  },
  {
   "cell_type": "code",
   "execution_count": 4,
   "metadata": {},
   "outputs": [
    {
     "name": "stdout",
     "output_type": "stream",
     "text": [
      "Found 8000 images belonging to 2 classes.\n"
     ]
    }
   ],
   "source": [
    "# Image Data Augmentation\n",
    "train_datagen = ImageDataGenerator(rescale = 1./255,\n",
    "                                   width_shift_range = 0.2,\n",
    "                                  height_shift_range = 0.2,\n",
    "                                  shear_range = 0.2,\n",
    "                                  zoom_range = 0.2,\n",
    "                                  horizontal_flip = True)\n",
    "\n",
    "training_set = train_datagen.flow_from_directory(train_dir,\n",
    "                                                target_size = (64, 64),\n",
    "                                                batch_size = 32,\n",
    "                                                class_mode = \"binary\")"
   ]
  },
  {
   "cell_type": "markdown",
   "metadata": {},
   "source": [
    "## Preprocessing the Test set"
   ]
  },
  {
   "cell_type": "code",
   "execution_count": 5,
   "metadata": {},
   "outputs": [
    {
     "name": "stdout",
     "output_type": "stream",
     "text": [
      "Found 2000 images belonging to 2 classes.\n"
     ]
    }
   ],
   "source": [
    "test_datagen = ImageDataGenerator(rescale = 1./255)\n",
    "\n",
    "test_set = test_datagen.flow_from_directory(test_dir,\n",
    "                                        target_size = (64, 64),\n",
    "                                        batch_size = 32,\n",
    "                                        class_mode = \"binary\")"
   ]
  },
  {
   "cell_type": "markdown",
   "metadata": {},
   "source": [
    "# Building the CNN"
   ]
  },
  {
   "cell_type": "code",
   "execution_count": 6,
   "metadata": {},
   "outputs": [],
   "source": [
    "from tensorflow.keras.models import Sequential\n",
    "cnn = Sequential()"
   ]
  },
  {
   "cell_type": "code",
   "execution_count": 7,
   "metadata": {},
   "outputs": [],
   "source": [
    "from tensorflow.keras import layers"
   ]
  },
  {
   "cell_type": "markdown",
   "metadata": {},
   "source": [
    "## Convolution Layer 1"
   ]
  },
  {
   "cell_type": "markdown",
   "metadata": {},
   "source": [
    "### Convolution"
   ]
  },
  {
   "cell_type": "code",
   "execution_count": 8,
   "metadata": {},
   "outputs": [],
   "source": [
    "cnn.add(layers.Conv2D(filters = 32, kernel_size = 3, activation = \"relu\", input_shape = (64, 64, 3)))"
   ]
  },
  {
   "cell_type": "markdown",
   "metadata": {},
   "source": [
    "### Pooling"
   ]
  },
  {
   "cell_type": "code",
   "execution_count": 9,
   "metadata": {},
   "outputs": [],
   "source": [
    "cnn.add(layers.MaxPool2D(pool_size = 2, strides = 2))"
   ]
  },
  {
   "cell_type": "markdown",
   "metadata": {},
   "source": [
    "## Convolution Layer 2"
   ]
  },
  {
   "cell_type": "code",
   "execution_count": 10,
   "metadata": {},
   "outputs": [],
   "source": [
    "cnn.add(layers.Conv2D(filters = 32, kernel_size = 3, activation = \"relu\"))\n",
    "\n",
    "cnn.add(layers.MaxPool2D(pool_size = 2, strides = 2))"
   ]
  },
  {
   "cell_type": "markdown",
   "metadata": {},
   "source": [
    "## Flattening"
   ]
  },
  {
   "cell_type": "code",
   "execution_count": 11,
   "metadata": {},
   "outputs": [],
   "source": [
    "cnn.add(layers.Flatten())"
   ]
  },
  {
   "cell_type": "markdown",
   "metadata": {},
   "source": [
    "## Full Connection"
   ]
  },
  {
   "cell_type": "code",
   "execution_count": 12,
   "metadata": {},
   "outputs": [],
   "source": [
    "cnn.add(layers.Dense(units = 128, activation = \"relu\"))"
   ]
  },
  {
   "cell_type": "markdown",
   "metadata": {},
   "source": [
    "## Output Layer"
   ]
  },
  {
   "cell_type": "code",
   "execution_count": 13,
   "metadata": {},
   "outputs": [],
   "source": [
    "cnn.add(layers.Dense(units = 1, activation = \"sigmoid\"))"
   ]
  },
  {
   "cell_type": "markdown",
   "metadata": {},
   "source": [
    "# Training the CNN"
   ]
  },
  {
   "cell_type": "markdown",
   "metadata": {},
   "source": [
    "## Compiling the CNN"
   ]
  },
  {
   "cell_type": "code",
   "execution_count": 14,
   "metadata": {},
   "outputs": [],
   "source": [
    "cnn.compile(optimizer = 'adam', loss = \"binary_crossentropy\", metrics = [\"accuracy\"])"
   ]
  },
  {
   "cell_type": "markdown",
   "metadata": {},
   "source": [
    "## Training the CNN on the Training set and evaluating it on the Test set"
   ]
  },
  {
   "cell_type": "code",
   "execution_count": 15,
   "metadata": {},
   "outputs": [
    {
     "name": "stdout",
     "output_type": "stream",
     "text": [
      "Epoch 1/100\n",
      "250/250 [==============================] - 43s 172ms/step - loss: 0.6874 - accuracy: 0.5502 - val_loss: 0.6508 - val_accuracy: 0.5975\n",
      "Epoch 2/100\n",
      "250/250 [==============================] - 42s 169ms/step - loss: 0.6519 - accuracy: 0.6148 - val_loss: 0.6055 - val_accuracy: 0.6710\n",
      "Epoch 3/100\n",
      "250/250 [==============================] - 45s 179ms/step - loss: 0.6262 - accuracy: 0.6528 - val_loss: 0.6456 - val_accuracy: 0.6290\n",
      "Epoch 4/100\n",
      "250/250 [==============================] - 41s 162ms/step - loss: 0.6103 - accuracy: 0.6645 - val_loss: 0.5752 - val_accuracy: 0.7270\n",
      "Epoch 5/100\n",
      "250/250 [==============================] - 39s 156ms/step - loss: 0.5871 - accuracy: 0.6930 - val_loss: 0.5183 - val_accuracy: 0.7460\n",
      "Epoch 6/100\n",
      "250/250 [==============================] - 42s 168ms/step - loss: 0.5708 - accuracy: 0.7039 - val_loss: 0.5797 - val_accuracy: 0.6845\n",
      "Epoch 7/100\n",
      "250/250 [==============================] - 46s 185ms/step - loss: 0.5646 - accuracy: 0.7074 - val_loss: 0.5064 - val_accuracy: 0.7525\n",
      "Epoch 8/100\n",
      "250/250 [==============================] - 42s 167ms/step - loss: 0.5495 - accuracy: 0.7236 - val_loss: 0.5167 - val_accuracy: 0.7455\n",
      "Epoch 9/100\n",
      "250/250 [==============================] - 42s 167ms/step - loss: 0.5447 - accuracy: 0.7203 - val_loss: 0.5314 - val_accuracy: 0.7315\n",
      "Epoch 10/100\n",
      "250/250 [==============================] - 43s 173ms/step - loss: 0.5264 - accuracy: 0.7358 - val_loss: 0.4786 - val_accuracy: 0.7775\n",
      "Epoch 11/100\n",
      "250/250 [==============================] - 44s 175ms/step - loss: 0.5249 - accuracy: 0.7380 - val_loss: 0.4794 - val_accuracy: 0.7745\n",
      "Epoch 12/100\n",
      "250/250 [==============================] - 44s 178ms/step - loss: 0.5054 - accuracy: 0.7554 - val_loss: 0.4679 - val_accuracy: 0.7815\n",
      "Epoch 13/100\n",
      "250/250 [==============================] - 45s 179ms/step - loss: 0.5056 - accuracy: 0.7471 - val_loss: 0.4835 - val_accuracy: 0.7590\n",
      "Epoch 14/100\n",
      "250/250 [==============================] - 46s 185ms/step - loss: 0.5044 - accuracy: 0.7458 - val_loss: 0.4427 - val_accuracy: 0.7980\n",
      "Epoch 15/100\n",
      "250/250 [==============================] - 44s 175ms/step - loss: 0.4976 - accuracy: 0.7552 - val_loss: 0.4422 - val_accuracy: 0.7915\n",
      "Epoch 16/100\n",
      "250/250 [==============================] - 43s 171ms/step - loss: 0.4867 - accuracy: 0.7607 - val_loss: 0.4897 - val_accuracy: 0.7610\n",
      "Epoch 17/100\n",
      "250/250 [==============================] - 43s 171ms/step - loss: 0.4871 - accuracy: 0.7629 - val_loss: 0.4725 - val_accuracy: 0.7680\n",
      "Epoch 18/100\n",
      "250/250 [==============================] - 43s 172ms/step - loss: 0.4736 - accuracy: 0.7701 - val_loss: 0.4582 - val_accuracy: 0.7895\n",
      "Epoch 19/100\n",
      "250/250 [==============================] - 43s 171ms/step - loss: 0.4775 - accuracy: 0.7664 - val_loss: 0.4260 - val_accuracy: 0.7970\n",
      "Epoch 20/100\n",
      "250/250 [==============================] - 43s 171ms/step - loss: 0.4734 - accuracy: 0.7679 - val_loss: 0.4390 - val_accuracy: 0.7925\n",
      "Epoch 21/100\n",
      "250/250 [==============================] - 43s 172ms/step - loss: 0.4669 - accuracy: 0.7738 - val_loss: 0.4258 - val_accuracy: 0.7975\n",
      "Epoch 22/100\n",
      "250/250 [==============================] - 43s 171ms/step - loss: 0.4608 - accuracy: 0.7795 - val_loss: 0.4820 - val_accuracy: 0.7790\n",
      "Epoch 23/100\n",
      "250/250 [==============================] - 43s 172ms/step - loss: 0.4572 - accuracy: 0.7824 - val_loss: 0.4188 - val_accuracy: 0.8080\n",
      "Epoch 24/100\n",
      "250/250 [==============================] - 43s 171ms/step - loss: 0.4510 - accuracy: 0.7826 - val_loss: 0.4343 - val_accuracy: 0.7990\n",
      "Epoch 25/100\n",
      "250/250 [==============================] - 43s 171ms/step - loss: 0.4552 - accuracy: 0.7845 - val_loss: 0.4564 - val_accuracy: 0.7915\n",
      "Epoch 26/100\n",
      "250/250 [==============================] - 43s 171ms/step - loss: 0.4420 - accuracy: 0.7886 - val_loss: 0.4357 - val_accuracy: 0.7970\n",
      "Epoch 27/100\n",
      "250/250 [==============================] - 43s 172ms/step - loss: 0.4420 - accuracy: 0.7869 - val_loss: 0.4448 - val_accuracy: 0.7965\n",
      "Epoch 28/100\n",
      "250/250 [==============================] - 43s 173ms/step - loss: 0.4332 - accuracy: 0.7918 - val_loss: 0.4391 - val_accuracy: 0.8015\n",
      "Epoch 29/100\n",
      "250/250 [==============================] - 43s 172ms/step - loss: 0.4347 - accuracy: 0.7949 - val_loss: 0.4322 - val_accuracy: 0.8040\n",
      "Epoch 30/100\n",
      "250/250 [==============================] - 43s 171ms/step - loss: 0.4311 - accuracy: 0.7987 - val_loss: 0.4070 - val_accuracy: 0.8135\n",
      "Epoch 31/100\n",
      "250/250 [==============================] - 43s 172ms/step - loss: 0.4298 - accuracy: 0.7972 - val_loss: 0.4407 - val_accuracy: 0.7960\n",
      "Epoch 32/100\n",
      "250/250 [==============================] - 43s 172ms/step - loss: 0.4260 - accuracy: 0.8006 - val_loss: 0.4032 - val_accuracy: 0.8200\n",
      "Epoch 33/100\n",
      "250/250 [==============================] - 43s 171ms/step - loss: 0.4188 - accuracy: 0.8091 - val_loss: 0.4151 - val_accuracy: 0.8120\n",
      "Epoch 34/100\n",
      "250/250 [==============================] - 43s 170ms/step - loss: 0.4252 - accuracy: 0.8040 - val_loss: 0.4389 - val_accuracy: 0.8070\n",
      "Epoch 35/100\n",
      "250/250 [==============================] - 43s 171ms/step - loss: 0.4139 - accuracy: 0.8080 - val_loss: 0.4502 - val_accuracy: 0.8030\n",
      "Epoch 36/100\n",
      "250/250 [==============================] - 43s 172ms/step - loss: 0.4149 - accuracy: 0.8121 - val_loss: 0.4472 - val_accuracy: 0.7935\n",
      "Epoch 37/100\n",
      "250/250 [==============================] - 42s 170ms/step - loss: 0.4166 - accuracy: 0.8050 - val_loss: 0.4241 - val_accuracy: 0.8150\n",
      "Epoch 38/100\n",
      "250/250 [==============================] - 43s 170ms/step - loss: 0.3996 - accuracy: 0.8177 - val_loss: 0.4150 - val_accuracy: 0.8225\n",
      "Epoch 39/100\n",
      "250/250 [==============================] - 42s 169ms/step - loss: 0.4058 - accuracy: 0.8100 - val_loss: 0.4110 - val_accuracy: 0.8150\n",
      "Epoch 40/100\n",
      "250/250 [==============================] - 43s 171ms/step - loss: 0.3950 - accuracy: 0.8224 - val_loss: 0.4275 - val_accuracy: 0.8095\n",
      "Epoch 41/100\n",
      "250/250 [==============================] - 42s 170ms/step - loss: 0.3984 - accuracy: 0.8181 - val_loss: 0.3983 - val_accuracy: 0.8255\n",
      "Epoch 42/100\n",
      "250/250 [==============================] - 43s 173ms/step - loss: 0.4014 - accuracy: 0.8146 - val_loss: 0.4380 - val_accuracy: 0.8045\n",
      "Epoch 43/100\n",
      "250/250 [==============================] - 42s 170ms/step - loss: 0.4033 - accuracy: 0.8111 - val_loss: 0.4646 - val_accuracy: 0.7845\n",
      "Epoch 44/100\n",
      "250/250 [==============================] - 42s 170ms/step - loss: 0.3942 - accuracy: 0.8175 - val_loss: 0.3993 - val_accuracy: 0.8205\n",
      "Epoch 45/100\n",
      "250/250 [==============================] - 42s 169ms/step - loss: 0.4005 - accuracy: 0.8154 - val_loss: 0.4006 - val_accuracy: 0.8230\n",
      "Epoch 46/100\n",
      "250/250 [==============================] - 42s 169ms/step - loss: 0.3909 - accuracy: 0.8231 - val_loss: 0.3918 - val_accuracy: 0.8310\n",
      "Epoch 47/100\n",
      "250/250 [==============================] - 42s 170ms/step - loss: 0.3984 - accuracy: 0.8175 - val_loss: 0.4122 - val_accuracy: 0.8115\n",
      "Epoch 48/100\n",
      "250/250 [==============================] - 42s 169ms/step - loss: 0.3935 - accuracy: 0.8194 - val_loss: 0.3864 - val_accuracy: 0.8350\n",
      "Epoch 49/100\n",
      "250/250 [==============================] - 43s 170ms/step - loss: 0.3813 - accuracy: 0.8281 - val_loss: 0.3723 - val_accuracy: 0.8385\n",
      "Epoch 50/100\n",
      "250/250 [==============================] - 43s 171ms/step - loss: 0.3908 - accuracy: 0.8257 - val_loss: 0.4132 - val_accuracy: 0.8170\n",
      "Epoch 51/100\n",
      "250/250 [==============================] - 42s 170ms/step - loss: 0.3805 - accuracy: 0.8294 - val_loss: 0.4680 - val_accuracy: 0.7815\n",
      "Epoch 52/100\n",
      "250/250 [==============================] - 43s 171ms/step - loss: 0.3737 - accuracy: 0.8313 - val_loss: 0.3690 - val_accuracy: 0.8510\n",
      "Epoch 53/100\n",
      "250/250 [==============================] - 43s 171ms/step - loss: 0.3762 - accuracy: 0.8276 - val_loss: 0.3880 - val_accuracy: 0.8355\n",
      "Epoch 54/100\n",
      "250/250 [==============================] - 42s 170ms/step - loss: 0.3758 - accuracy: 0.8275 - val_loss: 0.3559 - val_accuracy: 0.8465\n",
      "Epoch 55/100\n",
      "250/250 [==============================] - 43s 170ms/step - loss: 0.3744 - accuracy: 0.8292 - val_loss: 0.3722 - val_accuracy: 0.8445\n",
      "Epoch 56/100\n",
      "250/250 [==============================] - 43s 170ms/step - loss: 0.3803 - accuracy: 0.8279 - val_loss: 0.3640 - val_accuracy: 0.8440\n"
     ]
    },
    {
     "name": "stdout",
     "output_type": "stream",
     "text": [
      "Epoch 57/100\n",
      "250/250 [==============================] - 43s 173ms/step - loss: 0.3742 - accuracy: 0.8338 - val_loss: 0.4422 - val_accuracy: 0.8190\n",
      "Epoch 58/100\n",
      "250/250 [==============================] - 43s 170ms/step - loss: 0.3703 - accuracy: 0.8366 - val_loss: 0.3663 - val_accuracy: 0.8425\n",
      "Epoch 59/100\n",
      "250/250 [==============================] - 42s 168ms/step - loss: 0.3664 - accuracy: 0.8359 - val_loss: 0.3745 - val_accuracy: 0.8410\n",
      "Epoch 60/100\n",
      "250/250 [==============================] - 42s 170ms/step - loss: 0.3665 - accuracy: 0.8364 - val_loss: 0.3980 - val_accuracy: 0.8315\n",
      "Epoch 61/100\n",
      "250/250 [==============================] - 42s 170ms/step - loss: 0.3737 - accuracy: 0.8290 - val_loss: 0.3800 - val_accuracy: 0.8350\n",
      "Epoch 62/100\n",
      "250/250 [==============================] - 42s 169ms/step - loss: 0.3584 - accuracy: 0.8434 - val_loss: 0.4586 - val_accuracy: 0.8105\n",
      "Epoch 63/100\n",
      "250/250 [==============================] - 43s 171ms/step - loss: 0.3565 - accuracy: 0.8391 - val_loss: 0.4509 - val_accuracy: 0.8060\n",
      "Epoch 64/100\n",
      "250/250 [==============================] - 43s 170ms/step - loss: 0.3591 - accuracy: 0.8429 - val_loss: 0.3721 - val_accuracy: 0.8500\n",
      "Epoch 65/100\n",
      "250/250 [==============================] - 42s 170ms/step - loss: 0.3532 - accuracy: 0.8395 - val_loss: 0.4024 - val_accuracy: 0.8225\n",
      "Epoch 66/100\n",
      "250/250 [==============================] - 42s 170ms/step - loss: 0.3620 - accuracy: 0.8364 - val_loss: 0.4215 - val_accuracy: 0.8230\n",
      "Epoch 67/100\n",
      "250/250 [==============================] - 42s 170ms/step - loss: 0.3614 - accuracy: 0.8372 - val_loss: 0.3885 - val_accuracy: 0.8355\n",
      "Epoch 68/100\n",
      "250/250 [==============================] - 43s 170ms/step - loss: 0.3561 - accuracy: 0.8455 - val_loss: 0.3936 - val_accuracy: 0.8270\n",
      "Epoch 69/100\n",
      "250/250 [==============================] - 42s 169ms/step - loss: 0.3576 - accuracy: 0.8365 - val_loss: 0.3834 - val_accuracy: 0.8410\n",
      "Epoch 70/100\n",
      "250/250 [==============================] - 42s 169ms/step - loss: 0.3533 - accuracy: 0.8418 - val_loss: 0.3606 - val_accuracy: 0.8485\n",
      "Epoch 71/100\n",
      "250/250 [==============================] - 42s 170ms/step - loss: 0.3414 - accuracy: 0.8445 - val_loss: 0.4238 - val_accuracy: 0.8175\n",
      "Epoch 72/100\n",
      "250/250 [==============================] - 42s 169ms/step - loss: 0.3547 - accuracy: 0.8406 - val_loss: 0.3604 - val_accuracy: 0.8430\n",
      "Epoch 73/100\n",
      "250/250 [==============================] - 42s 170ms/step - loss: 0.3571 - accuracy: 0.8434 - val_loss: 0.3540 - val_accuracy: 0.8455\n",
      "Epoch 74/100\n",
      "250/250 [==============================] - 43s 171ms/step - loss: 0.3524 - accuracy: 0.8435 - val_loss: 0.3583 - val_accuracy: 0.8465\n",
      "Epoch 75/100\n",
      "250/250 [==============================] - 43s 170ms/step - loss: 0.3406 - accuracy: 0.8503 - val_loss: 0.4886 - val_accuracy: 0.7900\n",
      "Epoch 76/100\n",
      "250/250 [==============================] - 42s 170ms/step - loss: 0.3347 - accuracy: 0.8480 - val_loss: 0.3545 - val_accuracy: 0.8515\n",
      "Epoch 77/100\n",
      "250/250 [==============================] - 42s 170ms/step - loss: 0.3318 - accuracy: 0.8510 - val_loss: 0.3833 - val_accuracy: 0.8360\n",
      "Epoch 78/100\n",
      "250/250 [==============================] - 42s 170ms/step - loss: 0.3452 - accuracy: 0.8441 - val_loss: 0.3707 - val_accuracy: 0.8460\n",
      "Epoch 79/100\n",
      "250/250 [==============================] - 42s 170ms/step - loss: 0.3476 - accuracy: 0.8443 - val_loss: 0.3589 - val_accuracy: 0.8485\n",
      "Epoch 80/100\n",
      "250/250 [==============================] - 43s 171ms/step - loss: 0.3446 - accuracy: 0.8468 - val_loss: 0.3560 - val_accuracy: 0.8540\n",
      "Epoch 81/100\n",
      "250/250 [==============================] - 43s 170ms/step - loss: 0.3365 - accuracy: 0.8511 - val_loss: 0.3432 - val_accuracy: 0.8575\n",
      "Epoch 82/100\n",
      "250/250 [==============================] - 42s 170ms/step - loss: 0.3468 - accuracy: 0.8476 - val_loss: 0.3625 - val_accuracy: 0.8500\n",
      "Epoch 83/100\n",
      "250/250 [==============================] - 43s 171ms/step - loss: 0.3437 - accuracy: 0.8504 - val_loss: 0.3496 - val_accuracy: 0.8555\n",
      "Epoch 84/100\n",
      "250/250 [==============================] - 42s 168ms/step - loss: 0.3342 - accuracy: 0.8529 - val_loss: 0.4144 - val_accuracy: 0.8240\n",
      "Epoch 85/100\n",
      "250/250 [==============================] - 43s 172ms/step - loss: 0.3348 - accuracy: 0.8460 - val_loss: 0.3417 - val_accuracy: 0.8615\n",
      "Epoch 86/100\n",
      "250/250 [==============================] - 43s 172ms/step - loss: 0.3261 - accuracy: 0.8546 - val_loss: 0.3799 - val_accuracy: 0.8425\n",
      "Epoch 87/100\n",
      "250/250 [==============================] - 43s 172ms/step - loss: 0.3358 - accuracy: 0.8546 - val_loss: 0.3896 - val_accuracy: 0.8315\n",
      "Epoch 88/100\n",
      "250/250 [==============================] - 43s 174ms/step - loss: 0.3301 - accuracy: 0.8551 - val_loss: 0.3478 - val_accuracy: 0.8610\n",
      "Epoch 89/100\n",
      "250/250 [==============================] - 43s 173ms/step - loss: 0.3314 - accuracy: 0.8520 - val_loss: 0.4257 - val_accuracy: 0.8295\n",
      "Epoch 90/100\n",
      "250/250 [==============================] - 44s 174ms/step - loss: 0.3398 - accuracy: 0.8516 - val_loss: 0.3348 - val_accuracy: 0.8580\n",
      "Epoch 91/100\n",
      "250/250 [==============================] - 44s 175ms/step - loss: 0.3260 - accuracy: 0.8556 - val_loss: 0.3446 - val_accuracy: 0.8595\n",
      "Epoch 92/100\n",
      "250/250 [==============================] - 44s 175ms/step - loss: 0.3461 - accuracy: 0.8425 - val_loss: 0.3333 - val_accuracy: 0.8635\n",
      "Epoch 93/100\n",
      "250/250 [==============================] - 44s 175ms/step - loss: 0.3355 - accuracy: 0.8520 - val_loss: 0.4062 - val_accuracy: 0.8270\n",
      "Epoch 94/100\n",
      "250/250 [==============================] - 44s 174ms/step - loss: 0.3311 - accuracy: 0.8549 - val_loss: 0.3775 - val_accuracy: 0.8390\n",
      "Epoch 95/100\n",
      "250/250 [==============================] - 43s 174ms/step - loss: 0.3258 - accuracy: 0.8530 - val_loss: 0.3912 - val_accuracy: 0.8345\n",
      "Epoch 96/100\n",
      "250/250 [==============================] - 43s 173ms/step - loss: 0.3271 - accuracy: 0.8612 - val_loss: 0.3751 - val_accuracy: 0.8420\n",
      "Epoch 97/100\n",
      "250/250 [==============================] - 44s 174ms/step - loss: 0.3252 - accuracy: 0.8549 - val_loss: 0.3664 - val_accuracy: 0.8395\n",
      "Epoch 98/100\n",
      "250/250 [==============================] - 44s 174ms/step - loss: 0.3185 - accuracy: 0.8568 - val_loss: 0.3504 - val_accuracy: 0.8510\n",
      "Epoch 99/100\n",
      "250/250 [==============================] - 44s 175ms/step - loss: 0.3283 - accuracy: 0.8547 - val_loss: 0.3649 - val_accuracy: 0.8470\n",
      "Epoch 100/100\n",
      "250/250 [==============================] - 43s 173ms/step - loss: 0.3252 - accuracy: 0.8562 - val_loss: 0.3529 - val_accuracy: 0.8490\n"
     ]
    },
    {
     "data": {
      "text/plain": [
       "<tensorflow.python.keras.callbacks.History at 0x165e32092c8>"
      ]
     },
     "execution_count": 15,
     "metadata": {},
     "output_type": "execute_result"
    }
   ],
   "source": [
    "cnn.fit(x = training_set, validation_data = test_set, epochs = 100)"
   ]
  },
  {
   "cell_type": "code",
   "execution_count": 16,
   "metadata": {},
   "outputs": [],
   "source": [
    "cnn.save(\"model.h5\")"
   ]
  },
  {
   "cell_type": "markdown",
   "metadata": {},
   "source": [
    "# Making a Prediction"
   ]
  },
  {
   "cell_type": "code",
   "execution_count": 17,
   "metadata": {},
   "outputs": [
    {
     "data": {
      "text/plain": [
       "{'cats': 0, 'dogs': 1}"
      ]
     },
     "execution_count": 17,
     "metadata": {},
     "output_type": "execute_result"
    }
   ],
   "source": [
    "# To print the indices i.e. It will give the index assigned to Dog and cat\n",
    "training_set.class_indices"
   ]
  },
  {
   "cell_type": "code",
   "execution_count": 18,
   "metadata": {},
   "outputs": [],
   "source": [
    "import numpy as np\n",
    "from keras.preprocessing import image"
   ]
  },
  {
   "cell_type": "markdown",
   "metadata": {},
   "source": [
    "### Prediction 1\n",
    "\n",
    "<img src = \"Dataset/Predict/cat_or_dog_1.jpg\" style = \"width:200px;height:200px\" />"
   ]
  },
  {
   "cell_type": "code",
   "execution_count": 19,
   "metadata": {},
   "outputs": [],
   "source": [
    "test_image = image.load_img(r\"C:\\Classification_Cat_Dog_Using_CNN\\Dataset\\Predict\\cat_or_dog_1.jpg\", target_size = (64, 64))\n",
    "\n",
    "# Image is in PIL format. We need to convert it inpo numpy array.\n",
    "test_image = image.img_to_array(test_image)\n",
    "\n",
    "# We had trained our model in batches of images, not on single images. Batch size used here is 32. \n",
    "# So, we need to add a extra dimension for converting it into batch of 32.\n",
    "test_image = np.expand_dims(test_image, axis = 0)\n",
    "\n",
    "result = cnn.predict(test_image)\n",
    "\n",
    "if result[0][0] == 1 :\n",
    "    prediction = \"Dog\"\n",
    "else :\n",
    "    prediction = \"Cat\""
   ]
  },
  {
   "cell_type": "code",
   "execution_count": 20,
   "metadata": {},
   "outputs": [
    {
     "name": "stdout",
     "output_type": "stream",
     "text": [
      "Dog\n"
     ]
    }
   ],
   "source": [
    "print(prediction)"
   ]
  },
  {
   "cell_type": "markdown",
   "metadata": {},
   "source": [
    "### Prediction 2\n",
    "\n",
    "<img src = \"Dataset/Predict/cat_or_dog_2.jpg\" style = \"width:200px;height:200px\" />"
   ]
  },
  {
   "cell_type": "code",
   "execution_count": 21,
   "metadata": {},
   "outputs": [],
   "source": [
    "test_image = image.load_img(r\"C:\\Classification_Cat_Dog_Using_CNN\\Dataset\\Predict\\cat_or_dog_2.jpg\", target_size = (64, 64))\n",
    "\n",
    "# Image is in PIL format. We need to convert it inpo numpy array.\n",
    "test_image = image.img_to_array(test_image)\n",
    "\n",
    "# We had trained our model in batches of images, not on single images. Batch size used here is 32. \n",
    "# So, we need to add a extra dimension for converting it into batch of 32.\n",
    "test_image = np.expand_dims(test_image, axis = 0)\n",
    "\n",
    "result = cnn.predict(test_image)\n",
    "\n",
    "if result[0][0] == 1 :\n",
    "    prediction = \"Dog\"\n",
    "else :\n",
    "    prediction = \"Cat\""
   ]
  },
  {
   "cell_type": "code",
   "execution_count": 22,
   "metadata": {},
   "outputs": [
    {
     "name": "stdout",
     "output_type": "stream",
     "text": [
      "Cat\n"
     ]
    }
   ],
   "source": [
    "print(prediction)"
   ]
  },
  {
   "cell_type": "code",
   "execution_count": null,
   "metadata": {},
   "outputs": [],
   "source": []
  }
 ],
 "metadata": {
  "kernelspec": {
   "display_name": "Python 3",
   "language": "python",
   "name": "python3"
  },
  "language_info": {
   "codemirror_mode": {
    "name": "ipython",
    "version": 3
   },
   "file_extension": ".py",
   "mimetype": "text/x-python",
   "name": "python",
   "nbconvert_exporter": "python",
   "pygments_lexer": "ipython3",
   "version": "3.7.6"
  }
 },
 "nbformat": 4,
 "nbformat_minor": 4
}
